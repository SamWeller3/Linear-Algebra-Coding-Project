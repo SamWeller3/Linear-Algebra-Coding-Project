{
  "nbformat": 4,
  "nbformat_minor": 0,
  "metadata": {
    "colab": {
      "provenance": [],
      "authorship_tag": "ABX9TyNU5IFK7shqTLssfAWgVYjn",
      "include_colab_link": true
    },
    "kernelspec": {
      "name": "python3",
      "display_name": "Python 3"
    },
    "language_info": {
      "name": "python"
    }
  },
  "cells": [
    {
      "cell_type": "markdown",
      "metadata": {
        "id": "view-in-github",
        "colab_type": "text"
      },
      "source": [
        "<a href=\"https://colab.research.google.com/github/SamWeller3/Linear-Algebra-Coding-Project/blob/main/Untitled0.ipynb\" target=\"_parent\"><img src=\"https://colab.research.google.com/assets/colab-badge.svg\" alt=\"Open In Colab\"/></a>"
      ]
    },
    {
      "cell_type": "code",
      "execution_count": null,
      "metadata": {
        "id": "n-9cSh7Ffa_5"
      },
      "outputs": [],
      "source": [
        "import numpy as np\n",
        "from numpy import c_\n",
        "\n",
        "ll = \"loaded\""
      ]
    },
    {
      "cell_type": "code",
      "source": [
        "M = np.matrix([[.4, .5, .2, 0],\n",
        "               [.3, 0, .4, 0],\n",
        "               [.3, 0, .4, 0],\n",
        "               [0, .5, 0, 1]])"
      ],
      "metadata": {
        "id": "dCB4mS7Lfgrl"
      },
      "execution_count": null,
      "outputs": []
    },
    {
      "cell_type": "code",
      "source": [
        "x0 = np.matrix([[100], [200], [0], [0]])\n",
        "x0"
      ],
      "metadata": {
        "colab": {
          "base_uri": "https://localhost:8080/"
        },
        "id": "WQB6oHalf6w_",
        "outputId": "8e6a5a79-85da-4f11-a69c-1ae24fbd6860"
      },
      "execution_count": null,
      "outputs": [
        {
          "output_type": "execute_result",
          "data": {
            "text/plain": [
              "matrix([[100],\n",
              "        [200],\n",
              "        [  0],\n",
              "        [  0]])"
            ]
          },
          "metadata": {},
          "execution_count": 3
        }
      ]
    },
    {
      "cell_type": "code",
      "source": [
        "x1 = M*x0\n",
        "x2 = M*x1\n",
        "(M**2)*x0"
      ],
      "metadata": {
        "colab": {
          "base_uri": "https://localhost:8080/"
        },
        "id": "1OQCmis6hRa_",
        "outputId": "a7070aef-e004-4685-b518-42198615a365"
      },
      "execution_count": null,
      "outputs": [
        {
          "output_type": "execute_result",
          "data": {
            "text/plain": [
              "matrix([[ 77.],\n",
              "        [ 54.],\n",
              "        [ 54.],\n",
              "        [115.]])"
            ]
          },
          "metadata": {},
          "execution_count": 7
        }
      ]
    },
    {
      "cell_type": "code",
      "source": [
        "(M**4)*x0"
      ],
      "metadata": {
        "colab": {
          "base_uri": "https://localhost:8080/"
        },
        "id": "HFpzGJsXhp9C",
        "outputId": "e54e0926-fc9b-4582-9951-6493ed850941"
      },
      "execution_count": null,
      "outputs": [
        {
          "output_type": "execute_result",
          "data": {
            "text/plain": [
              "matrix([[ 58.73],\n",
              "        [ 38.46],\n",
              "        [ 38.46],\n",
              "        [164.35]])"
            ]
          },
          "metadata": {},
          "execution_count": 9
        }
      ]
    },
    {
      "cell_type": "code",
      "source": [
        "(M**48)*x0"
      ],
      "metadata": {
        "colab": {
          "base_uri": "https://localhost:8080/"
        },
        "id": "fGjiIr59iY-e",
        "outputId": "c78649c4-2a1b-4470-fca4-d50fe1841929"
      },
      "execution_count": null,
      "outputs": [
        {
          "output_type": "execute_result",
          "data": {
            "text/plain": [
              "matrix([[7.04863641e-02],\n",
              "        [4.61441570e-02],\n",
              "        [4.61441570e-02],\n",
              "        [2.99837225e+02]])"
            ]
          },
          "metadata": {},
          "execution_count": 13
        }
      ]
    },
    {
      "cell_type": "code",
      "source": [],
      "metadata": {
        "id": "KnM7euaGoBHc"
      },
      "execution_count": null,
      "outputs": []
    }
  ]
}